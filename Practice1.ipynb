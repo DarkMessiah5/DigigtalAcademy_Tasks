{
  "cells": [
    {
      "cell_type": "markdown",
      "metadata": {
        "id": "d97xcXfZTIea"
      },
      "source": [
        "**Задача 1.**\n",
        "\n",
        "Даны четыре действительных числа: x1, y1, x2, y2. Напишите функцию distance(x1, y1, x2, y2), вычисляющая евклидово расстояние ( https://ru.wikipedia.org/wiki/%D0%95%D0%B2%D0%BA%D0%BB%D0%B8%D0%B4%D0%BE%D0%B2%D0%B0_%D0%BC%D0%B5%D1%82%D1%80%D0%B8%D0%BA%D0%B0 ) между точкой (x1,y1) и (x2,y2)."
      ]
    },
    {
      "cell_type": "code",
      "execution_count": 16,
      "metadata": {
        "id": "FwoN8YrfS8S9"
      },
      "outputs": [
        {
          "name": "stdout",
          "output_type": "stream",
          "text": [
            "(4.0, 8.5), (-6.0, 7.0);\n",
            "Distance between two dots:  13.76\n"
          ]
        }
      ],
      "source": [
        "import math\n",
        "def distance(x1: float, y1: float, x2: float, y2: float):\n",
        "    return round(math.sqrt(math.pow(x1 - y1, 2) + math.pow(x2 - y2, 2)), 2)\n",
        "\n",
        "x1 = float(input(\"Please enter x1: \"))\n",
        "y1 = float(input(\"Please enter y1: \"))\n",
        "x2 = float(input(\"Please enter x2: \"))\n",
        "y2 = float(input(\"Please enter y2: \"))\n",
        "\n",
        "print(f\"({x1}, {y1}), ({x2}, {y2});\\nDistance between two dots: \", distance(x1, y1, x2, y2))"
      ]
    },
    {
      "cell_type": "markdown",
      "metadata": {
        "id": "04v60qczU_fi"
      },
      "source": [
        "**Задача 2.**\n",
        "\n",
        "Написать функцию season(month), принимающую 1 аргумент — номер месяца (от 1 до 12), которая присваивает глобальной переменной s время года, которому этот месяц принадлежит (зима, весна, лето или осень)."
      ]
    },
    {
      "cell_type": "code",
      "execution_count": 25,
      "metadata": {
        "id": "j56j5EvKWsy1"
      },
      "outputs": [
        {
          "name": "stdout",
          "output_type": "stream",
          "text": [
            "The season is ... There is no such season...\n"
          ]
        }
      ],
      "source": [
        "s = \"\"\n",
        "\n",
        "def season(month: int):\n",
        "    global s\n",
        "    match month:\n",
        "        case 1 | 2 | 3:\n",
        "            s = \"Winter\"\n",
        "        case 4 | 5 | 6:\n",
        "            s = \"Spring\"\n",
        "        case 7 | 8 | 9:\n",
        "            s = \"Summer\"\n",
        "        case 10 | 11 | 12:\n",
        "            s = \"Winter\"\n",
        "        case _:\n",
        "            s = \"There is no such season...\"\n",
        "\n",
        "month = int(input(\"Please enter month number (1..12): \"))\n",
        "season(month)\n",
        "print(f\"The season is ... {s}\")"
      ]
    },
    {
      "cell_type": "markdown",
      "metadata": {
        "id": "Xo4YtE9XWwJ-"
      },
      "source": [
        "**Задача 3.**\n",
        "\n",
        "Написать функцию is_prime, принимающую 1 аргумент — число от 0 до 1000, и возвращающую True, если оно простое, и False - иначе."
      ]
    },
    {
      "cell_type": "code",
      "execution_count": 29,
      "metadata": {
        "id": "JaI9rY6cW0YA"
      },
      "outputs": [
        {
          "name": "stdout",
          "output_type": "stream",
          "text": [
            "None\n",
            "True\n",
            "True\n",
            "False\n"
          ]
        }
      ],
      "source": [
        "def is_prime(num: int):\n",
        "\n",
        "    if (num == 0): # Число 0 не является ни простым,\n",
        "        return;    # ни составным, но по условию задания входит\n",
        "                   # в диапозон допустимых значений\n",
        "    for i in range(2, int(math.sqrt(num))):\n",
        "        if num % i == 0:\n",
        "            return False\n",
        "    return True\n",
        "\n",
        "print(is_prime(0))\n",
        "print(is_prime(1))\n",
        "print(is_prime(13))\n",
        "print(is_prime(24))"
      ]
    },
    {
      "cell_type": "markdown",
      "metadata": {
        "id": "siBlTugkX5Il"
      },
      "source": [
        "**Задача 4.**\n",
        "\n",
        "Написать функцию reverse_list(lst), которая принимает в качестве аргумента список и возвращаем его в перевернутом виде.\n",
        "\n",
        "Например,\n",
        "- исходный список:  8, 1, 0, 4\n",
        "- полученный список: 4, 0, 1, 8\n",
        "\n",
        "Использовать встроенные функции Python нельзя. "
      ]
    },
    {
      "cell_type": "code",
      "execution_count": 34,
      "metadata": {
        "id": "6YqPaxokYT1_"
      },
      "outputs": [
        {
          "name": "stdout",
          "output_type": "stream",
          "text": [
            "[4, 0, 1, 8]\n",
            "[5, 4, 3, 2, 1]\n"
          ]
        }
      ],
      "source": [
        "def reverse_list(arr: list):\n",
        "    # можно сделать через срезы: arr[::-1]\n",
        "    # можно по классике через цикл\n",
        "    length = len(arr)\n",
        "    for i in range(0, length // 2):\n",
        "        arr[i], arr[length - i - 1] = arr[length - i - 1], arr[i]\n",
        "\n",
        "    return arr\n",
        "\n",
        "print(reverse_list([8, 1, 0, 4]))\n",
        "print(reverse_list([1, 2, 3, 4, 5]))"
      ]
    },
    {
      "cell_type": "markdown",
      "metadata": {
        "id": "4UUcGbHWr3wn"
      },
      "source": [
        "**Задача 5.**\n",
        "\n",
        "Распечатайте с 4 по 8 символ фразы \"Привет мир!\" приведенные к верхнему регистру."
      ]
    },
    {
      "cell_type": "code",
      "execution_count": 44,
      "metadata": {
        "id": "ICMD_GzvsETR"
      },
      "outputs": [
        {
          "name": "stdout",
          "output_type": "stream",
          "text": [
            "ВЕТ М\n"
          ]
        }
      ],
      "source": [
        "print(\"Привет мир!\"[3:8].upper())"
      ]
    },
    {
      "cell_type": "markdown",
      "metadata": {
        "id": "Ei25f1pVsQLt"
      },
      "source": [
        "**Задача 6.**\n",
        "\n",
        "Напишите код, который все элементы массива x с нечетными индексами переставит в обратном порядке.\n",
        "\n",
        "Т.е. если x = [0, 1, 2, 3, 4, 5, 6, 7, 8, 9], то код должен получать [0, 9, 2, 7, 4, 5, 6, 3, 8, 1]"
      ]
    },
    {
      "cell_type": "code",
      "execution_count": 51,
      "metadata": {
        "id": "o93nN1cJsXNy"
      },
      "outputs": [
        {
          "name": "stdout",
          "output_type": "stream",
          "text": [
            "[0, 9, 2, 7, 4, 5, 6, 3, 8, 1]\n",
            "[0, 7, 2, 5, 4, 3, 6, 1, 8]\n"
          ]
        }
      ],
      "source": [
        "def reverse_odd_elements(arr: list):\n",
        "    length = len(arr)\n",
        "    x = 0\n",
        "    if (length % 2 == 1):\n",
        "        x = 1\n",
        "\n",
        "    for i in range(1, length // 2, 2):\n",
        "        arr[i], arr[length - i - x] = arr[length - i - x], arr[i]\n",
        "\n",
        "    return arr\n",
        "\n",
        "print(reverse_odd_elements([0, 1, 2, 3, 4, 5, 6, 7, 8, 9]))\n",
        "print(reverse_odd_elements([0, 1, 2, 3, 4, 5, 6, 7, 8]))"
      ]
    },
    {
      "cell_type": "markdown",
      "metadata": {
        "id": "-qcaQystsXYY"
      },
      "source": [
        "**Задача 7.**\n",
        "\n",
        "Напишите цикл, который выводит все числа от 0 до 500, делящиеся на 7, если в них есть цифра 8."
      ]
    },
    {
      "cell_type": "code",
      "execution_count": 52,
      "metadata": {
        "id": "5-d0zkldsuvr"
      },
      "outputs": [
        {
          "name": "stdout",
          "output_type": "stream",
          "text": [
            "28\n",
            "84\n",
            "98\n",
            "168\n",
            "182\n",
            "189\n",
            "238\n",
            "280\n",
            "287\n",
            "308\n",
            "378\n",
            "385\n",
            "448\n",
            "483\n"
          ]
        }
      ],
      "source": [
        "for i in range(0, 501):\n",
        "    if (i % 7 == 0 and str(i).find(\"8\") != -1):\n",
        "        print(i)"
      ]
    },
    {
      "cell_type": "markdown",
      "metadata": {
        "id": "CTWMY6f9su7P"
      },
      "source": [
        "**Задача 8.**\n",
        "\n",
        "На вход функция more_than_five(lst) получает список из целых чисел. \n",
        "Результатом работы функции должен стать новый список, в котором содержатся только те числа, которые больше 10 по модулю."
      ]
    },
    {
      "cell_type": "code",
      "execution_count": 53,
      "metadata": {
        "id": "ChE1X9wvtMzQ"
      },
      "outputs": [
        {
          "name": "stdout",
          "output_type": "stream",
          "text": [
            "[12, -24, 11, -53]\n"
          ]
        }
      ],
      "source": [
        "def more_than_five(arr: list[int]):\n",
        "    new_arr = []\n",
        "    for i in arr:\n",
        "        if (abs(i) > 10):\n",
        "            new_arr.append(i)\n",
        "    return new_arr\n",
        "\n",
        "print(more_than_five([5, 7, 12, -5, -24, 11, 10, -10, -53, 3]))"
      ]
    },
    {
      "cell_type": "markdown",
      "metadata": {
        "id": "vTu7Ibz2CesK"
      },
      "source": [
        "# Задания"
      ]
    },
    {
      "cell_type": "markdown",
      "metadata": {
        "id": "EobX-nHRDeT5"
      },
      "source": [
        "**Задача 1.**\n",
        "\n",
        "Создать матрицу размером `10х10` с 0 внутри, и 1 на границах. Например для `3х3`.\n",
        "\n",
        "```\n",
        "1 1 1\n",
        "1 0 1\n",
        "1 1 1\n",
        "```"
      ]
    },
    {
      "cell_type": "code",
      "execution_count": 2,
      "metadata": {
        "id": "MGvbhlGHCiJR"
      },
      "outputs": [
        {
          "name": "stdout",
          "output_type": "stream",
          "text": [
            "[[1. 1. 1. 1. 1. 1. 1. 1. 1. 1.]\n",
            " [1. 0. 0. 0. 0. 0. 0. 0. 0. 1.]\n",
            " [1. 0. 0. 0. 0. 0. 0. 0. 0. 1.]\n",
            " [1. 0. 0. 0. 0. 0. 0. 0. 0. 1.]\n",
            " [1. 0. 0. 0. 0. 0. 0. 0. 0. 1.]\n",
            " [1. 0. 0. 0. 0. 0. 0. 0. 0. 1.]\n",
            " [1. 0. 0. 0. 0. 0. 0. 0. 0. 1.]\n",
            " [1. 0. 0. 0. 0. 0. 0. 0. 0. 1.]\n",
            " [1. 0. 0. 0. 0. 0. 0. 0. 0. 1.]\n",
            " [1. 1. 1. 1. 1. 1. 1. 1. 1. 1.]]\n"
          ]
        }
      ],
      "source": [
        "import numpy as np\n",
        "\n",
        "size = 10\n",
        "\n",
        "arr = np.zeros((size, size))\n",
        "\n",
        "for i in range(0, size):\n",
        "    arr[0, i] = 1\n",
        "    arr[size - 1, i] = 1\n",
        "    arr[i, 0] = 1\n",
        "    arr[i, size - 1] = 1\n",
        "\n",
        "print(arr)"
      ]
    },
    {
      "cell_type": "markdown",
      "metadata": {
        "id": "vnY0gsMOD45W"
      },
      "source": [
        "**Задача 2.**\n",
        "\n",
        "Создать 5x5 матрицу с 1,2,3,4 над диагональю. Все остальные элементы - 0."
      ]
    },
    {
      "cell_type": "code",
      "execution_count": 197,
      "metadata": {
        "id": "tnKHSJApEY4w"
      },
      "outputs": [
        {
          "name": "stdout",
          "output_type": "stream",
          "text": [
            "[[0 1 0 0 0]\n",
            " [0 0 2 0 0]\n",
            " [0 0 0 3 0]\n",
            " [0 0 0 0 4]\n",
            " [0 0 0 0 0]]\n"
          ]
        }
      ],
      "source": [
        "arr = np.diag([1, 2, 3, 4], 1)\n",
        "print(arr)"
      ]
    },
    {
      "cell_type": "markdown",
      "metadata": {
        "id": "7R26cYEXEsWb"
      },
      "source": [
        "**Задача 3.**\n",
        "\n",
        "Создайте случайную матрицу и вычтите из каждой строки среднее."
      ]
    },
    {
      "cell_type": "code",
      "execution_count": 131,
      "metadata": {
        "id": "eNDIKZPrUbZG"
      },
      "outputs": [
        {
          "name": "stdout",
          "output_type": "stream",
          "text": [
            "x=4, y=7\n",
            "[[75. 99. 88. 85. 89. 42. 85.]\n",
            " [ 1. 94.  6. 96. 17. 74. 43.]\n",
            " [46. 98. 51. 22. 98. 41. 66.]\n",
            " [39. 49. 56. 15. 53. 96. 99.]] \n",
            "\n",
            "[[ -5.43  18.57   7.57   4.57   8.57 -38.43   4.57]\n",
            " [-46.29  46.71 -41.29  48.71 -30.29  26.71  -4.29]\n",
            " [-14.29  37.71  -9.29 -38.29  37.71 -19.29   5.71]\n",
            " [-19.14  -9.14  -2.14 -43.14  -5.14  37.86  40.86]]\n"
          ]
        }
      ],
      "source": [
        "rng = np.random.default_rng()\n",
        "\n",
        "x = rng.integers(2, 8)\n",
        "y = rng.integers(2, 8)\n",
        "print(f\"x={x}, y={y}\")\n",
        "\n",
        "arr = np.zeros((x,y))\n",
        "\n",
        "for i in range(0, x):\n",
        "    arr[i] = rng.integers(1,100, y)\n",
        "\n",
        "\n",
        "print(arr, \"\\n\")\n",
        "\n",
        "for i in range(0, x):\n",
        "    mean = round(arr[i].mean(), 2)\n",
        "    arr[i] -= mean\n",
        "\n",
        "print(arr)\n"
      ]
    },
    {
      "cell_type": "markdown",
      "metadata": {
        "id": "CzAqzs7ClCSn"
      },
      "source": [
        "**Задача 4.**\n",
        "\n",
        "Написать функцию, принимающую на вход массив и меняющую знак у элементов, значения которых между 3 и 8. Протестировать на нескольких заданных вами массивах."
      ]
    },
    {
      "cell_type": "code",
      "execution_count": 128,
      "metadata": {
        "id": "63Ki9lyulzec"
      },
      "outputs": [
        {
          "name": "stdout",
          "output_type": "stream",
          "text": [
            "[ 5  2  4  1  3 -1] \n",
            " [-5  2 -4  1  3 -1] \n",
            "\n",
            "[[ 6  4]\n",
            " [-5  9]] \n",
            " [[-6 -4]\n",
            " [-5  9]]\n"
          ]
        }
      ],
      "source": [
        "def switch_signs(arr):\n",
        "    return np.where(np.logical_and(3 < arr, arr < 8), -arr, arr)\n",
        "\n",
        "a = np.array([5, 2, 4, 1, 3, -1])\n",
        "print(a, \"\\n\", switch_signs(a), \"\\n\")\n",
        "\n",
        "a = np.array([[6, 4], [-5, 9]])\n",
        "print(a, \"\\n\", switch_signs(a))"
      ]
    },
    {
      "cell_type": "markdown",
      "metadata": {
        "id": "ha_XRvz7l9rx"
      },
      "source": [
        "**Задача 4.**\n",
        "\n",
        "Написать функцию, принимающую на вход массив и вычитающую среднее из каждой строки в матрице. Протестировать на нескольких заданных вами примерах."
      ]
    },
    {
      "cell_type": "code",
      "execution_count": 172,
      "metadata": {
        "id": "9nkzwep7mB5h"
      },
      "outputs": [
        {
          "name": "stdout",
          "output_type": "stream",
          "text": [
            "Original arr:\n",
            "[[ 6.  4.]\n",
            " [-5.  8.]]\n",
            "Changed arr:\n",
            "[[ 1.  -1. ]\n",
            " [-6.5  6.5]]\n",
            "\n",
            "Original arr:\n",
            "[[-6.   6.   1.4]\n",
            " [-1.5  8.5  0. ]\n",
            " [-9.   4.   0. ]]\n",
            "Changed arr:\n",
            "[[-6.47  5.53  0.93]\n",
            " [-3.83  6.17 -2.33]\n",
            " [-7.33  5.67  1.67]]\n"
          ]
        }
      ],
      "source": [
        "def substr_mean(arr):\n",
        "    mean = 0\n",
        "    columns = arr.shape[1]\n",
        "    for i in range(0, columns):\n",
        "        mean = round(arr[i].mean(), 2)\n",
        "        if (arr.ndim > 1):\n",
        "            arr[i] -= mean\n",
        "        else:\n",
        "            arr -= mean\n",
        "\n",
        "    return arr\n",
        "\n",
        "a = np.array([[6, 4], [-5, 8]], float)\n",
        "print(f\"Original arr:\\n{a}\")\n",
        "print(f\"Changed arr:\\n{substr_mean(a)}\\n\")\n",
        "\n",
        "a = np.array([[-6, 6, 1.4], [-1.5, 8.5, 0], [-9, 4, 0]], float)\n",
        "print(f\"Original arr:\\n{a}\")\n",
        "print(f\"Changed arr:\\n{substr_mean(a)}\")"
      ]
    },
    {
      "cell_type": "markdown",
      "metadata": {
        "id": "MJJ33mtstr-a"
      },
      "source": [
        "**Задача 5.**\n",
        "\n",
        "Дан вектор [1, 2, 3, 4, 5], построить новый вектор с тремя нулями между каждым значением."
      ]
    },
    {
      "cell_type": "code",
      "execution_count": 32,
      "metadata": {
        "id": "UZLtKFY80D6f"
      },
      "outputs": [
        {
          "name": "stdout",
          "output_type": "stream",
          "text": [
            "[1. 0. 0. 0. 2. 0. 0. 0. 3. 0. 0. 0. 4. 0. 0. 0. 5.]\n"
          ]
        }
      ],
      "source": [
        "n = np.array([1,2,3,4,5])\n",
        "zeros = 3\n",
        "\n",
        "new = np.zeros(len(n) + (len(n)-1)*(zeros))\n",
        "new[::zeros+1] = n\n",
        "print(new)"
      ]
    },
    {
      "cell_type": "markdown",
      "metadata": {
        "id": "KU7g7UVs0EDr"
      },
      "source": [
        "**Задача 6.**\n",
        "\n",
        "\n",
        "Написать функцию, принимающую на вход матрицу MxN и меняющую 2 любые строки в матрице. Протестировать на нескольких заданных вами примерах."
      ]
    },
    {
      "cell_type": "code",
      "execution_count": 181,
      "metadata": {
        "id": "xMzdfDFuKwFw"
      },
      "outputs": [
        {
          "name": "stdout",
          "output_type": "stream",
          "text": [
            "Original arr:\n",
            "[[ 6.  4.]\n",
            " [-5.  8.]]\n",
            "Changed arr:\n",
            "[[-5.  8.]\n",
            " [ 6.  4.]]\n",
            "\n",
            "Original arr:\n",
            "[[-6.   6.   1.4]\n",
            " [-1.5  8.5  0. ]\n",
            " [-9.   4.   0. ]]\n",
            "Changed arr:\n",
            "[[-1.5  8.5  0. ]\n",
            " [-6.   6.   1.4]\n",
            " [-9.   4.   0. ]]\n",
            "Original arr:\n",
            "[[-5.    1.    1.  ]\n",
            " [ 4.54  8.5   2.43]\n",
            " [ 7.   11.   -5.  ]\n",
            " [ 9.    6.   -4.  ]\n",
            " [ 1.    8.    1.  ]]\n",
            "Changed arr:\n",
            "[[ 4.54  8.5   2.43]\n",
            " [-5.    1.    1.  ]\n",
            " [ 7.   11.   -5.  ]\n",
            " [ 9.    6.   -4.  ]\n",
            " [ 1.    8.    1.  ]]\n"
          ]
        }
      ],
      "source": [
        "def swap_strings(arr):\n",
        "    rng = np.random.default_rng()\n",
        "    x = rng.integers(0, arr.shape[1])\n",
        "    y = x \n",
        "    \n",
        "    while (x == y):\n",
        "        y = rng.integers(0, arr.shape[1])\n",
        "\n",
        "    arr[x], arr[y] = arr[y].copy(), arr[x].copy()\n",
        "\n",
        "    return arr\n",
        "\n",
        "a = np.array([[6, 4], [-5, 8]], float)\n",
        "print(f\"Original arr:\\n{a}\")\n",
        "print(f\"Changed arr:\\n{swap_strings(a)}\\n\")\n",
        "\n",
        "a = np.array([[-6, 6, 1.4], [-1.5, 8.5, 0], [-9, 4, 0]], float)\n",
        "print(f\"Original arr:\\n{a}\")\n",
        "print(f\"Changed arr:\\n{swap_strings(a)}\")\n",
        "\n",
        "\n",
        "a = np.array([[-5, 1, 1], [4.54, 8.5, 2.43], [7, 11, -5], [9, 6, -4], [1, 8, 1]], float)\n",
        "print(f\"Original arr:\\n{a}\")\n",
        "print(f\"Changed arr:\\n{swap_strings(a)}\")"
      ]
    },
    {
      "cell_type": "markdown",
      "metadata": {
        "id": "Kiva3bYH0Z9S"
      },
      "source": [
        "**Задача 7.**\n",
        "\n",
        "\n",
        "Написать функцию, принимающую на вход одномерный массив и возвращающую наиболее частое значение в массиве и частоту его встречи. Протестировать на нескольких заданных вами примерах."
      ]
    },
    {
      "cell_type": "code",
      "execution_count": 196,
      "metadata": {
        "id": "Fmnb7-e70YdF"
      },
      "outputs": [
        {
          "name": "stdout",
          "output_type": "stream",
          "text": [
            "Pair (value, frequency): (1, 4)\n",
            "Pair (value, frequency): (5, 7)\n"
          ]
        }
      ],
      "source": [
        "def frequency(arr):\n",
        "    values, counts = np.unique(a, return_counts=True)\n",
        "\n",
        "    ind = np.argmax(counts)\n",
        "    return values[ind], counts.max()\n",
        "    print(values[ind]) \n",
        "    print(counts.max())\n",
        "\n",
        "a = np.array([1,2,3,1,2,1,1,4,3,2,2,3])\n",
        "print(f\"Pair (value, frequency): {frequency(a)}\")\n",
        "\n",
        "a = np.array([5,2,3,1,5,1,5,1,5, 5, 5, 4,5])\n",
        "print(f\"Pair (value, frequency): {frequency(a)}\")\n"
      ]
    },
    {
      "cell_type": "markdown",
      "metadata": {
        "id": "CA6upOsg0vuY"
      },
      "source": [
        "**Задача 8.** \n",
        "\n",
        "Написать функцию, принимающую на вход  массив 16x16 и считающую сумму по блокам 4x4. Протестировать на нескольких заданных вами примерах."
      ]
    },
    {
      "cell_type": "code",
      "execution_count": 235,
      "metadata": {
        "id": "biNnN0Gb056o"
      },
      "outputs": [
        {
          "name": "stdout",
          "output_type": "stream",
          "text": [
            "[[ 0. 27.  7. 22.  6. 20.  1.  4. 26. 30.  2. 11. 25. 25. 19. 16.]\n",
            " [ 4. 19. 32. 17.  2. 25.  6.  6. 16. 12. 16. 21. 14. 16. 12. 18.]\n",
            " [23. 11.  5.  8.  6. 24. 20. 15. 27. 15. 32. 21. 30.  9. 30. 12.]\n",
            " [22. 17. 11. 21.  6. 13.  5.  3.  6. 22.  0.  7. 23. 20. 28. 26.]\n",
            " [27. 18. 21. 31. 31.  8. 23.  6.  7.  7. 18. 29. 13.  8. 22. 29.]\n",
            " [19.  9. 26. 11. 30.  4.  7.  3.  6. 25. 28. 15. 14.  2.  7. 25.]\n",
            " [16. 21.  3. 13.  0. 25.  4. 25.  1. 16.  1. 13. 31. 25.  5. 10.]\n",
            " [20. 18.  8. 10. 10. 28.  4. 14.  3. 19. 11. 21. 30. 27. 32. 30.]\n",
            " [ 5.  6.  2. 12. 19. 27. 32. 24. 22. 19. 12.  7. 21. 14. 28. 10.]\n",
            " [10.  8. 13.  3. 14. 24. 23.  2.  6. 32. 13.  7. 17. 24. 27. 22.]\n",
            " [18.  9.  9.  6.  1. 19.  4. 24. 31. 23.  7.  6. 19.  7. 13. 29.]\n",
            " [16.  3. 26. 31.  7. 11. 25. 26. 22. 29.  9.  7. 28. 26. 20.  4.]\n",
            " [26. 24.  6. 18. 19.  2.  9. 18. 10. 28. 16.  3.  1. 22.  5. 29.]\n",
            " [29. 29. 27.  1. 29. 26.  6. 18. 28. 20. 26. 31. 25.  3. 11. 29.]\n",
            " [18.  9.  4. 19. 23. 16.  2. 15. 23.  8. 14.  0. 26.  8.  4. 22.]\n",
            " [26. 30.  3. 19. 29.  1. 25.  4. 29.  9. 13. 17.  4. 15. 15.  9.]]\n",
            "246.0 162.0 264.0 323.0 \n",
            "271.0 222.0 220.0 310.0 \n",
            "177.0 282.0 252.0 309.0 \n",
            "288.0 242.0 275.0 228.0 \n"
          ]
        }
      ],
      "source": [
        "SIZE = 16\n",
        "\n",
        "def square_sum(arr):\n",
        "    for i in range (0, 16, 4):\n",
        "        for j in range(0, 16, 4):\n",
        "            print(np.sum(a[i:i+4:,j:j+4:]), end=' ')\n",
        "        print()\n",
        "\n",
        "rng = np.random.default_rng()\n",
        "a = np.round(np.random.rand(16, 16) * rng.integers(10, 50))\n",
        "print(a)\n",
        "square_sum(a)\n"
      ]
    },
    {
      "cell_type": "markdown",
      "metadata": {
        "id": "a5jYWrLl06BY"
      },
      "source": [
        "**Задача 9.**\n",
        "\n",
        "Написать функцию, принимающую на вход матрицу и возвращающую n наибольших значений в массиве. n вводится с клавиатуры. Протестировать на нескольких заданных вами примерах."
      ]
    },
    {
      "cell_type": "code",
      "execution_count": 240,
      "metadata": {
        "id": "WflOzZRy1BRy"
      },
      "outputs": [
        {
          "name": "stdout",
          "output_type": "stream",
          "text": [
            "[ 9.  4. 15. 10. 11.  3.]\n",
            "[15.]\n"
          ]
        }
      ],
      "source": [
        "def max_values(arr, n):\n",
        "    ind = np.argpartition(arr, -n)[-n:]\n",
        "    return arr[ind]\n",
        "\n",
        "n = int(input(\"Please enter the amount of largest numbers you would like to receive: \"))\n",
        "a = np.round(np.random.rand(n + 5) * rng.integers(0, 20))\n",
        "print(a)\n",
        "print(max_values(a, n))"
      ]
    },
    {
      "cell_type": "markdown",
      "metadata": {
        "id": "UbB8AuQA1BY0"
      },
      "source": [
        "**Задача 10.**\n",
        "\n",
        "Написать функцию, принимающую на вход 10x3 матрица и находящую строки из неравных значений (например [2,2,3]). Протестировать на нескольких заданных вами примерах."
      ]
    },
    {
      "cell_type": "code",
      "execution_count": 260,
      "metadata": {
        "id": "YOKf8gMB1JCS"
      },
      "outputs": [
        {
          "name": "stdout",
          "output_type": "stream",
          "text": [
            "[1 2 3]\n",
            "[2 3]\n",
            "[3 5 7]\n",
            "[0 1]\n",
            "[2 3]\n",
            "[[1. 2. 3.]\n",
            " [2. 2. 3.]\n",
            " [5. 7. 3.]\n",
            " [1. 0. 0.]\n",
            " [3. 2. 3.]]\n"
          ]
        }
      ],
      "source": [
        "def unequal_values(arr):\n",
        "    new_arr = np.array([])\n",
        "\n",
        "    for i in range(0, 10):\n",
        "        if (np.unique(arr[i]).shape[0] > 1):\n",
        "            new_arr = np.append(new_arr, arr[i], axis=0)\n",
        "\n",
        "    n = len(new_arr) // 3\n",
        "\n",
        "    new_arr = new_arr.reshape(n, 3)\n",
        "\n",
        "    return new_arr\n",
        "\n",
        "a = np.array([\n",
        "    [1, 2, 3],\n",
        "    [1, 1, 1],\n",
        "    [2, 2, 3],\n",
        "    [5, 7, 3],\n",
        "    [6, 6, 6],\n",
        "    [8, 8, 8],\n",
        "    [1, 0, 0],\n",
        "    [0, 0, 0],\n",
        "    [3, 2, 3],\n",
        "    [2, 2, 2]\n",
        "])\n",
        "\n",
        "print(unequal_values(a))"
      ]
    },
    {
      "cell_type": "markdown",
      "metadata": {
        "id": "kDOcG70_1JJi"
      },
      "source": [
        "**Задача 11.**\n",
        "\n",
        "Написать функцию, принимающую на вход двумерный массив и находящую все различные строки. Протестировать на нескольких заданных вами примерах."
      ]
    },
    {
      "cell_type": "code",
      "execution_count": 6,
      "metadata": {
        "id": "Z370pCG41mUU"
      },
      "outputs": [
        {
          "name": "stdout",
          "output_type": "stream",
          "text": [
            "[[1 0 0]\n",
            " [1 1 1]\n",
            " [2 2 2]\n",
            " [3 2 3]\n",
            " [5 7 3]\n",
            " [6 6 6]\n",
            " [8 8 8]]\n"
          ]
        }
      ],
      "source": [
        "def unique_strings(arr):\n",
        "    return np.unique(arr, axis = 0)\n",
        "\n",
        "a = np.array([\n",
        "    [3, 2, 3],\n",
        "    [1, 1, 1],\n",
        "    [3, 2, 3],\n",
        "    [5, 7, 3],\n",
        "    [6, 6, 6],\n",
        "    [8, 8, 8],\n",
        "    [1, 0, 0],\n",
        "    [1, 0, 0],\n",
        "    [3, 2, 3],\n",
        "    [2, 2, 2]\n",
        "])\n",
        "\n",
        "print(unique_strings(a))"
      ]
    },
    {
      "cell_type": "markdown",
      "metadata": {
        "id": "xLnW1uIL1mc_"
      },
      "source": [
        "**Задача 12.**\n",
        "\n",
        "Написать функцию, принимающую на вход два вектора одинакого размера и считающую расстояние между векторами. Протестировать на нескольких заданных вами примерах."
      ]
    },
    {
      "cell_type": "code",
      "execution_count": 10,
      "metadata": {
        "id": "yYu-Qco323yW"
      },
      "outputs": [
        {
          "name": "stdout",
          "output_type": "stream",
          "text": [
            "14.0\n"
          ]
        }
      ],
      "source": [
        "def vector_distance(vec1, vec2):\n",
        "    return np.dot(vec1, vec2)\n",
        "\n",
        "v1 = np.array([5, 2, 4])\n",
        "v2 = np.array([3.2, -1, 0])\n",
        "\n",
        "print(vector_distance(v1, v2))"
      ]
    },
    {
      "cell_type": "markdown",
      "metadata": {
        "id": "jcl3nZ-Y236p"
      },
      "source": [
        "**Задача 13.**\n",
        "\n",
        "Написать функцию, принимающую на вход два вектора одинакого размера и находящую косинус угла между векторами. Протестировать на нескольких заданных вами примерах."
      ]
    },
    {
      "cell_type": "code",
      "execution_count": 11,
      "metadata": {
        "id": "GjM3s2YN3NEY"
      },
      "outputs": [
        {
          "name": "stdout",
          "output_type": "stream",
          "text": [
            "Cos: 0.898864608756334\n"
          ]
        }
      ],
      "source": [
        "def vector_cos(vec1, vec2):\n",
        "    c = np.dot(vec1, vec2) / np.linalg.norm(vec1)/ np.linalg.norm(vec2) # -> cosine of the angle\n",
        "    return np.arccos(np.clip(c, -1, 1))\n",
        "\n",
        "v1 = np.array([5, 2, 4])\n",
        "v2 = np.array([3.2, -1, 0])\n",
        "\n",
        "print(f\"Cos: {vector_cos(v1, v2)}\")"
      ]
    },
    {
      "cell_type": "markdown",
      "metadata": {
        "id": "NOGrxa9o3WLZ"
      },
      "source": [
        "**Задача 14.**\n",
        "\n",
        "Написать функцию, принимающую на вход вектор A содержит float числа как больше, так и меньше нуля.\n",
        "\n",
        "Функция должна округлить их до целых и результат записать в глобальную переменную Z. Округление должно быть \"от нуля\", т.е.:\n",
        "\n",
        "- положительные числа округляем всегда вверх до целого\n",
        "- отрицательные числа округляем всегда вниз до целого\n",
        "- 0 остаётся 0\n",
        "\n",
        " Протестировать на нескольких заданных вами примерах.\n"
      ]
    },
    {
      "cell_type": "code",
      "execution_count": 16,
      "metadata": {
        "id": "x-RztsfF37Yt"
      },
      "outputs": [
        {
          "name": "stdout",
          "output_type": "stream",
          "text": [
            "[ 3.5        -4.1        -2.99        3.17       14.9         2.00001\n",
            " -1.00000001]\n",
            "[ 4. -4. -2.  4. 15.  3. -1.]\n"
          ]
        }
      ],
      "source": [
        "global Z \n",
        "def round_vector(arr):\n",
        "    Z = np.where(arr >= 0.0, np.ceil(arr), np.trunc(arr))\n",
        "\n",
        "v = np.array([3.5, -4.1, -2.99, 3.17, 14.90, 2.00001, -1.00000001], float)\n",
        "print(v)\n",
        "round_vector(v)\n",
        "print(Z)"
      ]
    },
    {
      "cell_type": "markdown",
      "metadata": {
        "id": "6V2Z2SNX37jT"
      },
      "source": [
        "**Задача 15.**\n",
        "\n",
        "Написать функцию, принимающую на вход 2 вектора целых чисел A и B.\n",
        "\n",
        "Функция должна находить числа, встречающиеся в обоих векторах и добавлять их по возрастанию в глобальную переменную - вектор Z.\n",
        "\n",
        "*Если пересечений нет, то вектор Z будет пустым*.\n",
        "\n",
        " Протестировать на нескольких заданных вами примерах."
      ]
    },
    {
      "cell_type": "code",
      "execution_count": 29,
      "metadata": {
        "id": "ThxIR2zN4PFr"
      },
      "outputs": [
        {
          "name": "stdout",
          "output_type": "stream",
          "text": [
            "[ 1  5 10 15]\n",
            "[]\n"
          ]
        }
      ],
      "source": [
        "def same_values(vec1, vec2):\n",
        "    global Z \n",
        "    Z = np.intersect1d(vec1, vec2)\n",
        "\n",
        "v1 = np.array([1, 2, 5, 7, 8, 10, 12, 15])\n",
        "v2 = np.array([1, 5, 10, 15, 22, 24, 41])\n",
        "\n",
        "same_values(v1, v2)\n",
        "print(Z)\n",
        "\n",
        "v1 = np.array([1, 2, 5, 7])\n",
        "v2 = np.array([15, 22, 24, 41])\n",
        "\n",
        "same_values(v1, v2)\n",
        "print(Z)"
      ]
    },
    {
      "cell_type": "markdown",
      "metadata": {
        "id": "GeUr4BbI433N"
      },
      "source": [
        "**Задача 16.**\n",
        "\n",
        "Написать функцию, принимающую на вход вектор и возвращающую максимальный элемент в векторе среди элементов, перед которыми стоит 0. \n",
        "\n",
        "Например для:\n",
        "\n",
        "`x = np.array([6, 2, 0, 3, 0, 0, 5, 7, 0])`\n",
        "\n",
        "Ответ:\n",
        "5"
      ]
    },
    {
      "cell_type": "code",
      "execution_count": 30,
      "metadata": {
        "id": "TVHVE4RB50Ti"
      },
      "outputs": [
        {
          "name": "stdout",
          "output_type": "stream",
          "text": [
            "5\n"
          ]
        }
      ],
      "source": [
        "def max_after_zero(arr):\n",
        "    return np.max(arr[1:][(arr==0)[:-1]])\n",
        "\n",
        "x = np.array([6, 2, 0, 3, 0, 0, 5, 7, 0])\n",
        "\n",
        "print(max_after_zero(x))"
      ]
    },
    {
      "cell_type": "markdown",
      "metadata": {
        "id": "3w6cbF5m438U"
      },
      "source": [
        "**Задача 17.**\n",
        "\n",
        "Написать функцию, принимающую на вход матрицу 5х3 и считающую длину каждого вектора в матрице (строка) и ищущую самый длинный вектор, вернуть его координаты и длину.\n",
        "\n",
        "Как выглядит матрица:\n",
        "\n",
        "```   \n",
        "     | x | y | z |\n",
        "     | 1 | 2 | 3 |\n",
        "     | 3 | 4 | 1 |\n",
        "     | ...       |\n",
        "```"
      ]
    },
    {
      "cell_type": "code",
      "execution_count": 37,
      "metadata": {},
      "outputs": [
        {
          "name": "stdout",
          "output_type": "stream",
          "text": [
            "(array([ 1. , -0.2, 13. ]), 13.03993865016243)\n",
            "(array([-2.32 ,  7.12 ,  3.333]), 8.196687684668728)\n"
          ]
        }
      ],
      "source": [
        "def longest_vector(arr):\n",
        "    length = 0.0\n",
        "    vec = np.array([])\n",
        "    safe = 0.0\n",
        "    for i in range(0, 5):\n",
        "        safe = np.linalg.norm(arr[i])\n",
        "        if (safe > length):\n",
        "            length = safe\n",
        "            vec = arr[i]\n",
        "\n",
        "    return vec, length\n",
        "\n",
        "arr = np.array( [\n",
        "    [1, 2, 3],\n",
        "    [1, -0.2, 13],\n",
        "    [4.2, -5, 6],\n",
        "    [3.2, -1.2, 8],\n",
        "    [10, -2, 4.3]\n",
        "])\n",
        "\n",
        "print(longest_vector(arr))\n",
        "\n",
        "\n",
        "arr = np.array( [\n",
        "    [1, -2, 5],\n",
        "    [4.12, -0.2, 1],\n",
        "    [-4.2, -0.68, 4.21],\n",
        "    [3.2, -1.2, 1.8],\n",
        "    [-2.32, 7.12, 3.333]\n",
        "])\n",
        "\n",
        "print(longest_vector(arr))"
      ]
    }
  ],
  "metadata": {
    "colab": {
      "collapsed_sections": [
        "xq5kwdSxKnJI"
      ],
      "provenance": []
    },
    "kernelspec": {
      "display_name": "Python 3.10.3 64-bit",
      "language": "python",
      "name": "python3"
    },
    "language_info": {
      "codemirror_mode": {
        "name": "ipython",
        "version": 3
      },
      "file_extension": ".py",
      "mimetype": "text/x-python",
      "name": "python",
      "nbconvert_exporter": "python",
      "pygments_lexer": "ipython3",
      "version": "3.10.3"
    },
    "vscode": {
      "interpreter": {
        "hash": "b4d6ccb97ebf9ade2ba87c2f1b0e0c684573d6cdc066ba857a7a94db12539a05"
      }
    }
  },
  "nbformat": 4,
  "nbformat_minor": 0
}
